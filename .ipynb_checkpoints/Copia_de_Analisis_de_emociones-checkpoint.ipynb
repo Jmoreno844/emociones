{
 "cells": [
  {
   "cell_type": "code",
   "execution_count": 6,
   "metadata": {
    "colab": {
     "base_uri": "https://localhost:8080/"
    },
    "id": "3inxG3Y5_Lsp",
    "outputId": "30bc7d95-5737-402b-d673-cbf1ce06ef2e"
   },
   "outputs": [
    {
     "name": "stdout",
     "output_type": "stream",
     "text": [
      "--2025-04-28 17:39:21--  https://dl.fbaipublicfiles.com/fasttext/vectors-crawl/cc.es.300.vec.gz\n",
      "3.163.60.58, 3.163.60.68, 3.163.60.77, ...ublicfiles.com)... \n",
      "Connecting to dl.fbaipublicfiles.com (dl.fbaipublicfiles.com)|3.163.60.58|:443... connected.\n",
      "HTTP request sent, awaiting response... 200 OK\n",
      "Length: 1285580896 (1,2G) [binary/octet-stream]\n",
      "Saving to: ‘./embeddings/cc.es.300.vec.gz’\n",
      "\n",
      "cc.es.300.vec.gz    100%[===================>]   1,20G  3,43MB/s    in 6m 12s  \n",
      "\n",
      "2025-04-28 17:45:33 (3,30 MB/s) - ‘./embeddings/cc.es.300.vec.gz’ saved [1285580896/1285580896]\n",
      "\n"
     ]
    }
   ],
   "source": [
    "# 🚀 1. Descargar los embeddings fastText en español\n",
    "import os\n",
    "embeddings_dir = './embeddings'\n",
    "if not os.path.exists(embeddings_dir):\n",
    "    os.makedirs(embeddings_dir)\n",
    "# Download to the new directory\n",
    "!wget -P {embeddings_dir} https://dl.fbaipublicfiles.com/fasttext/vectors-crawl/cc.es.300.vec.gz\n"
   ]
  },
  {
   "cell_type": "code",
   "execution_count": 7,
   "metadata": {
    "id": "4CT2s2U1196h"
   },
   "outputs": [],
   "source": [
    "# 🚀 2. Importar librerías necesarias\n",
    "import pandas as pd\n",
    "import numpy as np\n",
    "import tensorflow as tf\n",
    "from tensorflow.keras.preprocessing.text import Tokenizer\n",
    "from tensorflow.keras.preprocessing.sequence import pad_sequences\n",
    "from tensorflow.keras.models import Sequential\n",
    "from tensorflow.keras.layers import Embedding, LSTM, Dense, Dropout\n",
    "from sklearn.preprocessing import LabelEncoder\n",
    "import gzip"
   ]
  },
  {
   "cell_type": "code",
   "execution_count": 8,
   "metadata": {
    "id": "8L8f1TBzf3Bk"
   },
   "outputs": [],
   "source": [
    "# Configurar uso de GPU si está disponible\n",
    "import os\n",
    "gpus = tf.config.list_physical_devices('GPU')\n",
    "if gpus:\n",
    "    for gpu in gpus:\n",
    "        tf.config.experimental.set_memory_growth(gpu, True)\n",
    "\n",
    "from sklearn.utils.class_weight import compute_class_weight\n",
    "from tensorflow.keras.callbacks import EarlyStopping, ModelCheckpoint, TensorBoard\n"
   ]
  },
  {
   "cell_type": "code",
   "execution_count": null,
   "metadata": {
    "colab": {
     "base_uri": "https://localhost:8080/"
    },
    "id": "d0yFNwHR_g7w",
    "outputId": "e45be83b-02aa-4743-d2a5-d9a774a2d424"
   },
   "outputs": [],
   "source": [
    "# 🚀 3. Leer embeddings fastText\n",
    "embeddings_index = {}\n",
    "embeddings_file_path = os.path.join(embeddings_dir, 'cc.es.300.vec.gz') # Use the new path\n",
    "\n",
    "with gzip.open(embeddings_file_path, 'rt', encoding='utf-8', newline='\\n', errors='ignore') as f:\n",
    "    next(f)  # saltar la primera línea\n",
    "    for line in f:\n",
    "        values = line.rstrip().split(' ')\n",
    "        word = values[0]\n",
    "        coefs = np.asarray(values[1:], dtype='float32')\n",
    "        embeddings_index[word] = coefs\n",
    "\n",
    "print(f'Se cargaron {len(embeddings_index)} palabras en los embeddings.')\n"
   ]
  },
  {
   "cell_type": "code",
   "execution_count": null,
   "metadata": {
    "colab": {
     "base_uri": "https://localhost:8080/"
    },
    "id": "tSCy3dMh3NWe",
    "outputId": "41f7ead0-0738-439b-d9c8-cd428f8aefd2"
   },
   "outputs": [],
   "source": [
    "\n",
    "# Paso 3: Cargar tus datos\n",
    "# (asegúrate de subirlos o leerlos de Google Drive)\n",
    "df = pd.read_csv('https://raw.githubusercontent.com/adiacla/sentimientos/refs/heads/main/emociones.csv', sep=\"|\")  # ajusta ruta\n",
    "print(df.head())\n"
   ]
  },
  {
   "cell_type": "code",
   "execution_count": null,
   "metadata": {
    "colab": {
     "base_uri": "https://localhost:8080/"
    },
    "id": "Mq_RCViY399u",
    "outputId": "faffa73c-960b-48f3-f6fa-f588d6cb63c2"
   },
   "outputs": [],
   "source": [
    "df.columns"
   ]
  },
  {
   "cell_type": "code",
   "execution_count": null,
   "metadata": {
    "colab": {
     "base_uri": "https://localhost:8080/"
    },
    "id": "tG75CGgL4QMD",
    "outputId": "89a09776-1e23-4a72-f988-7e27ff65b6e8"
   },
   "outputs": [],
   "source": [
    "df.emotion.unique()"
   ]
  },
  {
   "cell_type": "code",
   "execution_count": null,
   "metadata": {
    "id": "UFtFReFh_zRG"
   },
   "outputs": [],
   "source": [
    "# Diccionario de traducción emociones\n",
    "emotion_translation = {\n",
    "    'depressed': 'deprimido',\n",
    "    'hopeless': 'desesperanzado',\n",
    "    'lonely': 'solitario',\n",
    "    'suicidal': 'suicida',\n",
    "    'disappointment': 'decepción',\n",
    "    'disgust': 'asco',\n",
    "    'remorse': 'remordimiento',\n",
    "    'grief': 'duelo',\n",
    "    'embarrassment': 'vergüenza',\n",
    "    'fear': 'miedo',\n",
    "    'nervousness': 'nerviosismo',\n",
    "    'sadness': 'tristeza',\n",
    "    'anger': 'enojo',\n",
    "    'neutral': 'neutral'\n",
    "}\n",
    "# Aplicar traducción\n",
    "df['emotion'] = df['emotion'].map(emotion_translation)\n"
   ]
  },
  {
   "cell_type": "code",
   "execution_count": null,
   "metadata": {
    "colab": {
     "base_uri": "https://localhost:8080/",
     "height": 554
    },
    "id": "1R0MCTfM4GVA",
    "outputId": "56190ad0-5307-4b76-99b7-8f5b65adc817"
   },
   "outputs": [],
   "source": [
    "df.emotion.value_counts()"
   ]
  },
  {
   "cell_type": "code",
   "execution_count": null,
   "metadata": {
    "id": "KYAyOmdw7XF8"
   },
   "outputs": [],
   "source": [
    "import re\n",
    "import unicodedata\n",
    "\n",
    "def clean_text(text):\n",
    "    text = text.lower()  # Minúsculas\n",
    "    text = unicodedata.normalize('NFD', text).encode('ascii', 'ignore').decode('utf-8')  # Eliminar tildes\n",
    "    text = re.sub(r\"http\\S+\", \"\", text)  # Quitar links\n",
    "    text = re.sub(r\"@\\w+\", \"\", text)     # Quitar menciones\n",
    "    text = re.sub(r\"#\\w+\", \"\", text)     # Quitar hashtags\n",
    "    text = re.sub(r\"[^a-zA-Z\\s]\", \"\", text)  # Solo letras y espacios\n",
    "    text = re.sub(r'\\s+', ' ', text).strip()  # Quitar espacios extra\n",
    "    return text\n",
    "\n",
    "# Limpiar texto\n",
    "df['tweet_clean'] = df['tweet'].apply(clean_text)\n"
   ]
  },
  {
   "cell_type": "code",
   "execution_count": null,
   "metadata": {
    "colab": {
     "base_uri": "https://localhost:8080/"
    },
    "id": "XtwHt52B71GR",
    "outputId": "cb086234-9714-4782-de3e-4d1aaac8d5f6"
   },
   "outputs": [],
   "source": [
    "# Verificar si hay filas con valores nulos (NaN) en cualquier columna\n",
    "print(df.isnull().sum())\n"
   ]
  },
  {
   "cell_type": "code",
   "execution_count": null,
   "metadata": {
    "colab": {
     "base_uri": "https://localhost:8080/",
     "height": 53
    },
    "id": "Sene3QO572ne",
    "outputId": "6dbe4d1e-551f-4dcb-b0bb-f2b6005aba78"
   },
   "outputs": [],
   "source": [
    "# Ver filas donde el tweet esté vacío o la emoción esté vacía\n",
    "df[df['tweet_clean'].isnull() | df['emotion'].isnull()]"
   ]
  },
  {
   "cell_type": "code",
   "execution_count": null,
   "metadata": {
    "colab": {
     "base_uri": "https://localhost:8080/",
     "height": 53
    },
    "id": "1zf2NaQO7_LG",
    "outputId": "48374d48-ddee-483e-f514-07194c2b66c0"
   },
   "outputs": [],
   "source": [
    "# Ver filas donde 'tweet' es string vacío o solo espacios\n",
    "df[df['tweet'].str.strip() == '']\n"
   ]
  },
  {
   "cell_type": "code",
   "execution_count": null,
   "metadata": {
    "id": "E3ChyvTx8EJe"
   },
   "outputs": [],
   "source": [
    "# Borrar filas con valores nulos\n",
    "df = df.dropna(subset=['tweet_clean', 'emotion'])\n",
    "\n",
    "# Borrar tweets que son vacíos (sin contenido)\n",
    "df = df[df['tweet_clean'].str.strip() != '']\n"
   ]
  },
  {
   "cell_type": "code",
   "execution_count": null,
   "metadata": {
    "colab": {
     "base_uri": "https://localhost:8080/",
     "height": 115
    },
    "id": "eaO9PThH8VE7",
    "outputId": "dc1b045d-182c-4c67-9ec2-ed0cb6b7d531"
   },
   "outputs": [],
   "source": [
    "df.tweet_clean[1:2]"
   ]
  },
  {
   "cell_type": "code",
   "execution_count": null,
   "metadata": {
    "id": "iAJDCeTJ8Qvr"
   },
   "outputs": [],
   "source": [
    "# 🚀 5. Tokenizar los textos\n",
    "vocab_size = 20000  # Número máximo de palabras a considerar\n",
    "oov_token = '<OOV>'\n",
    "\n",
    "tokenizer = Tokenizer(num_words=vocab_size, oov_token=oov_token)\n",
    "tokenizer.fit_on_texts(df['tweet_clean'].values)\n",
    "\n",
    "sequences = tokenizer.texts_to_sequences(df['tweet_clean'].values)"
   ]
  },
  {
   "cell_type": "code",
   "execution_count": null,
   "metadata": {
    "colab": {
     "base_uri": "https://localhost:8080/"
    },
    "id": "H1NrFr_99K5r",
    "outputId": "96522d99-6f27-4054-f48a-f9a112f2cb73"
   },
   "outputs": [],
   "source": [
    "sequences"
   ]
  },
  {
   "cell_type": "code",
   "execution_count": null,
   "metadata": {
    "colab": {
     "base_uri": "https://localhost:8080/"
    },
    "id": "YV8EsEZ8AOX7",
    "outputId": "4d8bbfc8-71f4-4be6-889b-73d9f9bf686d"
   },
   "outputs": [],
   "source": [
    "# 🚀 6. Padding de secuencias\n",
    "maxlen = 50  # Puedes ajustar esto según la longitud media de tus tweets\n",
    "X = pad_sequences(sequences, maxlen=maxlen, padding='post')\n",
    "X"
   ]
  },
  {
   "cell_type": "code",
   "execution_count": null,
   "metadata": {
    "colab": {
     "base_uri": "https://localhost:8080/"
    },
    "id": "V9gSNA-p9MtT",
    "outputId": "ef6dbdd9-e977-4e01-aad0-c755482b20d0"
   },
   "outputs": [],
   "source": [
    "# 🚀 7. Codificar las etiquetas\n",
    "label_encoder = LabelEncoder()\n",
    "y = label_encoder.fit_transform(df['emotion'].values)\n",
    "\n",
    "num_classes = len(label_encoder.classes_)\n",
    "print(f'Número de clases: {num_classes}')\n"
   ]
  },
  {
   "cell_type": "code",
   "execution_count": null,
   "metadata": {
    "colab": {
     "base_uri": "https://localhost:8080/"
    },
    "id": "bsq_Fc2pgUwO",
    "outputId": "29c15806-b5c9-467c-85e7-0ed7de024176"
   },
   "outputs": [],
   "source": [
    "# Estrategia de balanceo de clases\n",
    "class_weights_array = compute_class_weight(\n",
    "    'balanced',\n",
    "    classes=np.unique(y),\n",
    "    y=y\n",
    ")\n",
    "class_weights = dict(enumerate(class_weights_array))\n",
    "print(f'Class weights: {class_weights}')"
   ]
  },
  {
   "cell_type": "code",
   "execution_count": null,
   "metadata": {
    "colab": {
     "base_uri": "https://localhost:8080/"
    },
    "id": "37qqmKw29Tr0",
    "outputId": "ab43a31b-3c88-4745-a3c8-22bec6f59e7b"
   },
   "outputs": [],
   "source": [
    "# 🚀 8. Crear la embedding matrix\n",
    "embedding_dim = 300  # FastText tiene 300 dimensiones\n",
    "\n",
    "word_index = tokenizer.word_index\n",
    "num_words = min(vocab_size, len(word_index) + 1)\n",
    "\n",
    "embedding_matrix = np.zeros((num_words, embedding_dim))\n",
    "\n",
    "for word, i in word_index.items():\n",
    "    if i >= vocab_size:\n",
    "        continue\n",
    "    embedding_vector = embeddings_index.get(word)\n",
    "    if embedding_vector is not None:\n",
    "        embedding_matrix[i] = embedding_vector\n",
    "\n",
    "print(f'Tamaño de la embedding_matrix: {embedding_matrix.shape}')"
   ]
  },
  {
   "cell_type": "code",
   "execution_count": null,
   "metadata": {
    "id": "DWpfP1i4Aj1d"
   },
   "outputs": [],
   "source": [
    "# 🚀 9. Construir el modelo LSTM\n",
    "model = Sequential([\n",
    "    Embedding(\n",
    "        input_dim=num_words,\n",
    "        output_dim=embedding_dim,\n",
    "        weights=[embedding_matrix],\n",
    "        trainable=False\n",
    "    ),\n",
    "    LSTM(128, return_sequences=True),\n",
    "    Dropout(0.3),\n",
    "    LSTM(64, return_sequences=True),\n",
    "    Dropout(0.3),\n",
    "    LSTM(32, return_sequences=True),\n",
    "    Dropout(0.3),\n",
    "    LSTM(16),\n",
    "    Dropout(0.3),\n",
    "    Dense(64, activation='relu'),\n",
    "    Dropout(0.2),\n",
    "    Dense(num_classes, activation='softmax')\n",
    "])\n",
    "\n"
   ]
  },
  {
   "cell_type": "code",
   "execution_count": null,
   "metadata": {
    "colab": {
     "base_uri": "https://localhost:8080/",
     "height": 513
    },
    "id": "Qcq1B8ZGAk-1",
    "outputId": "c94a3a2e-cbe9-455d-d0fc-57a4915a8f56"
   },
   "outputs": [],
   "source": [
    "# 🚀 10. Compilar el modelo\n",
    "model.compile(\n",
    "    loss='sparse_categorical_crossentropy',\n",
    "    optimizer='adam',\n",
    "    metrics=['accuracy']\n",
    ")\n",
    "\n",
    "model.summary()\n"
   ]
  },
  {
   "cell_type": "code",
   "execution_count": null,
   "metadata": {
    "id": "EcaTfdXXhr_-"
   },
   "outputs": [],
   "source": [
    "# Callbacks: early stopping, checkpoint y TensorBoard\n",
    "early_stopping = EarlyStopping(\n",
    "    monitor='val_loss',\n",
    "    patience=3,\n",
    "    restore_best_weights=True\n",
    ")\n",
    "model_checkpoint = ModelCheckpoint(\n",
    "    'best_model.keras',\n",
    "    monitor='val_loss',\n",
    "    save_best_only=True\n",
    ")\n",
    "tensorboard_cb = TensorBoard(\n",
    "    log_dir='./logs',\n",
    "    histogram_freq=1\n",
    ")"
   ]
  },
  {
   "cell_type": "code",
   "execution_count": null,
   "metadata": {
    "colab": {
     "base_uri": "https://localhost:8080/"
    },
    "id": "6ppYrkK0AopN",
    "outputId": "623cd988-3808-4f13-c6e7-740fea1bcfa3"
   },
   "outputs": [],
   "source": [
    "# 🚀 11. Entrenar el modelo\n",
    "history = model.fit(\n",
    "    X, y,\n",
    "    epochs=10,\n",
    "    batch_size=64,\n",
    "    validation_split=0.2,\n",
    "    verbose=1,\n",
    "    callbacks=[early_stopping, model_checkpoint, tensorboard_cb],\n",
    "    class_weight=class_weights\n",
    ")"
   ]
  },
  {
   "cell_type": "code",
   "execution_count": null,
   "metadata": {
    "colab": {
     "base_uri": "https://localhost:8080/",
     "height": 487
    },
    "id": "QmX3moDrRn_m",
    "outputId": "41be5cb2-409e-467d-987f-2bfde6fea3bd"
   },
   "outputs": [
    {
     "data": {
      "image/png": "[encoded data removed]",
      "text/plain": [
       "<Figure size 1000x500 with 2 Axes>"
      ]
     },
     "metadata": {},
     "output_type": "display_data"
    }
   ],
   "source": [
    "import matplotlib.pyplot as plt\n",
    "\n",
    "# Graficar valores de precisión de entrenamiento y validación\n",
    "plt.figure(figsize=(10, 5))\n",
    "plt.subplot(1, 2, 1)\n",
    "plt.plot(history.history['accuracy'])\n",
    "plt.plot(history.history['val_accuracy'])\n",
    "plt.title('Model accuracy')\n",
    "plt.ylabel('Accuracy')\n",
    "plt.xlabel('Epoch')\n",
    "plt.legend(['Train', 'Validation'], loc='upper left')\n",
    "\n",
    "# Graficar valores de pérdida de entrenamiento y validación\n",
    "plt.subplot(1, 2, 2)\n",
    "plt.plot(history.history['loss'])\n",
    "plt.plot(history.history['val_loss'])\n",
    "plt.title('Model loss')\n",
    "plt.ylabel('Loss')\n",
    "plt.xlabel('Epoch')\n",
    "plt.legend(['Train', 'Validation'], loc='upper left')\n",
    "plt.show()"
   ]
  },
  {
   "cell_type": "code",
   "execution_count": null,
   "metadata": {
    "colab": {
     "base_uri": "https://localhost:8080/"
    },
    "id": "eyTXzk-lRogk",
    "outputId": "effb9de8-e359-4563-c2db-8b377b241b3c"
   },
   "outputs": [
    {
     "name": "stdout",
     "output_type": "stream",
     "text": [
      "\u001b[1m1/1\u001b[0m \u001b[32m━━━━━━━━━━━━━━━━━━━━\u001b[0m\u001b[37m\u001b[0m \u001b[1m0s\u001b[0m 51ms/step\n",
      "El texto 'alguna vez se deprimen, porque la única persona con la que quieren hablar y pasar el tiempo está castigada... así que solo están sentados allí, sin hacer nada, porque no tienen ganas de hablar o pasar tiempo con nadie más.' expresa: deprimido\n",
      "\u001b[1m1/1\u001b[0m \u001b[32m━━━━━━━━━━━━━━━━━━━━\u001b[0m\u001b[37m\u001b[0m \u001b[1m0s\u001b[0m 47ms/step\n",
      "El texto 'me siento fatal' expresa: decepción\n"
     ]
    }
   ],
   "source": [
    "# Predicción de texto\n",
    "\n",
    "import numpy as np\n",
    "# Función para predecir la emoción de un texto\n",
    "def predecir_emocion(texto):\n",
    "    texto_limpio = clean_text(texto)\n",
    "    secuencia = tokenizer.texts_to_sequences([texto_limpio])\n",
    "    padded_secuencia = pad_sequences(secuencia, maxlen=maxlen, padding='post')\n",
    "    prediccion = model.predict(padded_secuencia)\n",
    "    etiqueta_predicha = label_encoder.inverse_transform([np.argmax(prediccion)])\n",
    "    return etiqueta_predicha[0]\n",
    "\n",
    "# Ejemplo de uso\n",
    "texto_prueba = \"alguna vez se deprimen, porque la única persona con la que quieren hablar y pasar el tiempo está castigada... así que solo están sentados allí, sin hacer nada, porque no tienen ganas de hablar o pasar tiempo con nadie más.\"\n",
    "emocion_predicha = predecir_emocion(texto_prueba)\n",
    "print(f\"El texto '{texto_prueba}' expresa: {emocion_predicha}\")\n",
    "\n",
    "\n",
    "texto_prueba2 = \"me siento fatal\"\n",
    "emocion_predicha2 = predecir_emocion(texto_prueba2)\n",
    "print(f\"El texto '{texto_prueba2}' expresa: {emocion_predicha2}\")"
   ]
  },
  {
   "cell_type": "code",
   "execution_count": null,
   "metadata": {
    "colab": {
     "base_uri": "https://localhost:8080/",
     "height": 17
    },
    "id": "lY5iXbAYR-sy",
    "outputId": "3eb60cfc-5bed-4deb-dbd3-84e2fd69969b"
   },
   "outputs": [
    {
     "data": {
      "application/javascript": [
       "\n",
       "    async function download(id, filename, size) {\n",
       "      if (!google.colab.kernel.accessAllowed) {\n",
       "        return;\n",
       "      }\n",
       "      const div = document.createElement('div');\n",
       "      const label = document.createElement('label');\n",
       "      label.textContent = `Downloading \"${filename}\": `;\n",
       "      div.appendChild(label);\n",
       "      const progress = document.createElement('progress');\n",
       "      progress.max = size;\n",
       "      div.appendChild(progress);\n",
       "      document.body.appendChild(div);\n",
       "\n",
       "      const buffers = [];\n",
       "      let downloaded = 0;\n",
       "\n",
       "      const channel = await google.colab.kernel.comms.open(id);\n",
       "      // Send a message to notify the kernel that we're ready.\n",
       "      channel.send({})\n",
       "\n",
       "      for await (const message of channel.messages) {\n",
       "        // Send a message to notify the kernel that we're ready.\n",
       "        channel.send({})\n",
       "        if (message.buffers) {\n",
       "          for (const buffer of message.buffers) {\n",
       "            buffers.push(buffer);\n",
       "            downloaded += buffer.byteLength;\n",
       "            progress.value = downloaded;\n",
       "          }\n",
       "        }\n",
       "      }\n",
       "      const blob = new Blob(buffers, {type: 'application/binary'});\n",
       "      const a = document.createElement('a');\n",
       "      a.href = window.URL.createObjectURL(blob);\n",
       "      a.download = filename;\n",
       "      div.appendChild(a);\n",
       "      a.click();\n",
       "      div.remove();\n",
       "    }\n",
       "  "
      ],
      "text/plain": [
       "<IPython.core.display.Javascript object>"
      ]
     },
     "metadata": {},
     "output_type": "display_data"
    },
    {
     "data": {
      "application/javascript": [
       "download(\"download_9c59b1af-6c3d-4cfe-a45a-ea37eee05f6b\", \"modelo_emociones.h5\", 27336792)"
      ],
      "text/plain": [
       "<IPython.core.display.Javascript object>"
      ]
     },
     "metadata": {},
     "output_type": "display_data"
    }
   ],
   "source": [
    "# Guardar y descargar el modelo persistente\n",
    "\n",
    "model.save('modelo_emociones.h5')\n",
    "from google.colab import files\n",
    "files.download('modelo_emociones.h5')"
   ]
  }
 ],
 "metadata": {
  "colab": {
   "provenance": []
  },
  "kernelspec": {
   "display_name": "Python 3 (ipykernel)",
   "language": "python",
   "name": "python3"
  },
  "language_info": {
   "codemirror_mode": {
    "name": "ipython",
    "version": 3
   },
   "file_extension": ".py",
   "mimetype": "text/x-python",
   "name": "python",
   "nbconvert_exporter": "python",
   "pygments_lexer": "ipython3",
   "version": "3.10.12"
  }
 },
 "nbformat": 4,
 "nbformat_minor": 4
}
